{
 "cells": [
  {
   "cell_type": "markdown",
   "metadata": {},
   "source": [
    "# Import Libraries"
   ]
  },
  {
   "cell_type": "code",
   "execution_count": 40,
   "metadata": {},
   "outputs": [],
   "source": [
    "import os\n",
    "import shutil\n",
    "import time\n",
    "import json\n",
    "import requests\n",
    "import tempfile\n",
    "import numpy as np\n",
    "import pandas as pd\n",
    "from zipfile import ZipFile\n",
    "\n",
    "import boto3\n",
    "import sagemaker\n",
    "\n",
    "from datetime import datetime"
   ]
  },
  {
   "cell_type": "markdown",
   "metadata": {},
   "source": [
    "# Setup Region, session, and role"
   ]
  },
  {
   "cell_type": "code",
   "execution_count": 41,
   "metadata": {},
   "outputs": [],
   "source": [
    "region = os.environ[\"AWS_REGION\"]\n",
    "boto_session = boto3.Session(region_name=region)\n",
    "\n",
    "account_id = boto_session.client(\"sts\").get_caller_identity()[\"Account\"]\n",
    "\n",
    "# Get the AWS EventBridge client\n",
    "event_bridge_client = boto3.client('events')\n",
    "lambda_client = boto3.client('lambda')\n",
    "\n",
    "sns_client = boto3.client('sns')\n",
    "cloudwatch = boto3.client('cloudwatch')\n",
    "\n",
    "iam_client = boto3.client('iam')"
   ]
  },
  {
   "cell_type": "markdown",
   "metadata": {},
   "source": [
    "# Initialize variable"
   ]
  },
  {
   "cell_type": "code",
   "execution_count": 42,
   "metadata": {},
   "outputs": [],
   "source": [
    "# S3 prefix\n",
    "bucket = \"artwork-content-trial-bucket\"\n",
    "prefix=\"mch-artwork-content\"\n",
    "train_data_dir_prefix=\"data\"\n",
    "pipeline_dir_prefix=\"pipeline-data\"\n",
    "# training_input_prefix = \"content_ovr_anonymised.csv\"\n",
    "training_input_prefix = \"ovr_content_data\"\n",
    "\n",
    "model_alarm_name='Model_Version_Registration_Alarm'\n",
    "pipeline_alarm_name='SageMaker_Pipeline_Execution_Alarm'\n",
    "pipeline_name='artwork-content-pipeline-demo'\n",
    "sns_topic_name = 'ContentPipelineExecutionAlarmTopic'\n",
    "sns_topic_arn = f'arn:aws:sns:{region}:{account_id}:{sns_topic_name}'\n",
    "lambda_fcn_name=\"content-sns-lambda-evt-trigger-fcn\"\n",
    "lambda_arn=f\"arn:aws:lambda:us-east-1:791574662255:function:{lambda_fcn_name}\"\n",
    "role_name = \"sm-lambda-sns-evt-trigger-role\""
   ]
  },
  {
   "cell_type": "markdown",
   "metadata": {},
   "source": [
    "# ========================================="
   ]
  },
  {
   "cell_type": "markdown",
   "metadata": {},
   "source": [
    "# Customized SNS Notification via Lambda function using EventBridge"
   ]
  },
  {
   "cell_type": "markdown",
   "metadata": {},
   "source": [
    "# =============================================="
   ]
  },
  {
   "cell_type": "markdown",
   "metadata": {},
   "source": [
    "# Set SNS Topic"
   ]
  },
  {
   "cell_type": "code",
   "execution_count": 45,
   "metadata": {},
   "outputs": [],
   "source": [
    "def set_sns_topic(sns_client, sns_topic_name):\n",
    "    topic_response=None\n",
    "    topic_arns = sns_client.list_topics()['Topics']\n",
    "    \n",
    "    if topic_arns != []:\n",
    "        for topic in topic_arns:\n",
    "            if sns_topic_name in topic['TopicArn']:\n",
    "                print(\"\\n Topic name <<{}>> having SNS ARN <<{}>> already exists. \\n\".format(sns_topic_name, topic['TopicArn']))\n",
    "                break\n",
    "        else:\n",
    "            print(f'\\n New topic <<{sns_topic_name}>> created successfully \\n')\n",
    "            topic_response = sns_client.create_topic(\n",
    "                                Name=sns_topic_name\n",
    "                            )\n",
    "    else:\n",
    "        print(f'\\n New topic <<{sns_topic_name}>> created successfully \\n')\n",
    "        topic_response = sns_client.create_topic(\n",
    "                            Name=sns_topic_name\n",
    "                        )\n",
    "        \n",
    "    return topic_response"
   ]
  },
  {
   "cell_type": "code",
   "execution_count": 46,
   "metadata": {},
   "outputs": [
    {
     "name": "stdout",
     "output_type": "stream",
     "text": [
      "\n",
      " Topic name <<ContentPipelineExecutionAlarmTopic>> having SNS ARN <<arn:aws:sns:us-east-1:791574662255:ContentPipelineExecutionAlarmTopic>> already exists. \n",
      "\n"
     ]
    }
   ],
   "source": [
    "set_sns_topic(sns_client, sns_topic_name)"
   ]
  },
  {
   "cell_type": "markdown",
   "metadata": {},
   "source": [
    "# Set SNS Subscribers"
   ]
  },
  {
   "cell_type": "code",
   "execution_count": 47,
   "metadata": {},
   "outputs": [],
   "source": [
    "# subcribe endpoint to sns\n",
    "def sns_subscribe(sns_client, sns_topic_arn, protocol, endpoint):\n",
    "    subscribe_response=None\n",
    "    \n",
    "    subscription_arns = sns_client.list_subscriptions_by_topic(TopicArn=sns_topic_arn)['Subscriptions']\n",
    "\n",
    "    if subscription_arns != []:\n",
    "        for subscription in subscription_arns:\n",
    "            if ('Protocol' in subscription) and (subscription['Protocol']==protocol) and (subscription['Endpoint']==endpoint):\n",
    "                print(f\"Subscription name <<{subscription['Endpoint']}>> having protocol <<{subscription['Protocol']}>> already exist.\")\n",
    "                break\n",
    "        else:\n",
    "            subscribe_response = sns_client.subscribe(\n",
    "                                            TopicArn= sns_topic_arn,\n",
    "                                            Protocol=protocol,\n",
    "                                            Endpoint=endpoint,\n",
    "                                            ReturnSubscriptionArn=True\n",
    "                                        )\n",
    "            print(f'new subscription - <<{endpoint}>> having protocol <<{protocol}>> created successfully')\n",
    "    else:\n",
    "        subscribe_response = sns_client.subscribe(\n",
    "                                                TopicArn= sns_topic_arn,\n",
    "                                                Protocol=protocol,\n",
    "                                                Endpoint=endpoint,\n",
    "                                                ReturnSubscriptionArn=True\n",
    "                                            )\n",
    "\n",
    "        print(f'new subscription - {endpoint} having protocol {protocol} created successfully')\n",
    "    \n",
    "    return subscribe_response"
   ]
  },
  {
   "cell_type": "markdown",
   "metadata": {},
   "source": [
    "# Adding Subscribers"
   ]
  },
  {
   "cell_type": "code",
   "execution_count": 48,
   "metadata": {},
   "outputs": [
    {
     "name": "stdout",
     "output_type": "stream",
     "text": [
      "Subscription name <<vchitrakathi@dminc.com>> having protocol <<email>> already exist.\n"
     ]
    }
   ],
   "source": [
    "\n",
    "protocol=['email']\n",
    "endpoint=['vchitrakathi@dminc.com']\n",
    "\n",
    "for protocol, endpoint in zip(protocol, endpoint):\n",
    "    sns_subscribe(sns_client, sns_topic_arn, protocol, endpoint)"
   ]
  },
  {
   "cell_type": "markdown",
   "metadata": {},
   "source": [
    "# Adding lambda permissions"
   ]
  },
  {
   "cell_type": "code",
   "execution_count": 49,
   "metadata": {},
   "outputs": [],
   "source": [
    "def add_lambda_permissions(lambda_client, lambda_function_name, src_arn, account_id, action=None, prefix=None):\n",
    "    try :\n",
    "        response = lambda_client.add_permission(\n",
    "                FunctionName=lambda_function_name,\n",
    "                StatementId=f\"{prefix}-{int(time.time())}\",\n",
    "                Action=action,\n",
    "                Principal= f\"{prefix}.amazonaws.com\",\n",
    "                SourceArn=src_arn,\n",
    "                SourceAccount=account_id\n",
    "            )\n",
    "        \n",
    "    except Exception as e:\n",
    "        print(f\"Error occurred while adding permissions: {e}\")\n",
    "        \n",
    "    return response\n",
    "\n",
    "def update_lambda_config(lambda_client, lambda_function_name, src_arn):\n",
    "    try :\n",
    "        response = lambda_client.update_function_configuration(\n",
    "                        FunctionName=lambda_function_name,\n",
    "                        Environment={\n",
    "                            'Variables': {\n",
    "                                'SNS_TOPIC_ARN': src_arn\n",
    "                            }\n",
    "                        }\n",
    "                    )\n",
    "        \n",
    "    except Exception as e:\n",
    "        print(f\"Error occurred while updating lambda config: {e}\")\n",
    "        \n",
    "    return response\n",
    "        "
   ]
  },
  {
   "cell_type": "markdown",
   "metadata": {},
   "source": [
    "# SNS Lambda trigger to set rule and put lambda function as target"
   ]
  },
  {
   "cell_type": "code",
   "execution_count": 50,
   "metadata": {},
   "outputs": [],
   "source": [
    "def sns_lambda_trigger(region, account_id, sns_topic_arn, sns_client, event_bridge_client, lambda_client, lambda_function_name, lambda_arn):\n",
    "    \n",
    "    response=None\n",
    "\n",
    "    # Define the EventBridge rule name and description\n",
    "    rule_name = 'ContentSNSLambdaEventRuleTrigger'\n",
    "    rule_description = 'Event to trigger Custom SNS Notification via Lambda function on state change of Content Pipeline alarm.'\n",
    "#     rule_description = 'Trigger sns notification via a Lambda function when a SageMaker pipeline execution is successful and a model is registered'\n",
    "    \n",
    "    # Define the Event Pattern\n",
    "#     event_pattern = {\n",
    "#           \"source\": [\"aws.sns\"],\n",
    "#           \"detail-type\": [\"AWS API Call via CloudTrail\"],\n",
    "#           \"detail\": {\n",
    "#             \"eventSource\": [\"sns.amazonaws.com\"]\n",
    "#           }\n",
    "#         }\n",
    "    \n",
    "\n",
    "    event_pattern = {\n",
    "                \"source\": [\n",
    "                  \"aws.cloudwatch\"\n",
    "                ],\n",
    "                \"detail-type\": [\n",
    "                  \"CloudWatch Alarm State Change\"\n",
    "                ],\n",
    "                \"detail\": {\n",
    "#                     \"alarmName\": [\n",
    "#                         model_alarm_name,\n",
    "#                         pipeline_alarm_name\n",
    "#                     ],\n",
    "                  \"state\": {\n",
    "                    \"value\": [\n",
    "                      \"ALARM\", \"OK\"\n",
    "                    ]\n",
    "                  }\n",
    "                }\n",
    "              }\n",
    "\n",
    "\n",
    "#     event_pattern = {\n",
    "#                   \"source\": [\n",
    "#                     \"aws.sagemaker\"\n",
    "#                   ],\n",
    "#                   \"detail-type\": [\n",
    "#                     \"SageMaker Model Building Pipeline Execution Status Change\"\n",
    "#                   ],\n",
    "#                   \"detail\": {\n",
    "#                     \"currentPipelineExecutionStatus\": [\"Succeeded\"]\n",
    "#                 }\n",
    "#             }\n",
    "\n",
    "\n",
    "    # Put the EventBridge rule\n",
    "    rule_response = event_bridge_client.put_rule(\n",
    "        Name=rule_name,\n",
    "        Description=rule_description,\n",
    "        EventPattern=json.dumps(event_pattern),\n",
    "        State='ENABLED'\n",
    "    )\n",
    "    \n",
    "    event_rule_arn = rule_response['RuleArn']\n",
    "    \n",
    "    # add permissions to Events, SNS\n",
    "    add_lambda_permissions(lambda_client, lambda_function_name, event_rule_arn, account_id, action='lambda:InvokeFunction', prefix='events')\n",
    "    add_lambda_permissions(lambda_client, lambda_function_name, sns_topic_arn, account_id, action='lambda:InvokeFunction', prefix='sns')\n",
    "    update_lambda_config(lambda_client, lambda_function_name, sns_topic_arn)\n",
    "   \n",
    "    \n",
    "    input_msg = {\"subject\": \"Sagemaker Pipeline Execution Results\",\n",
    "                 \"message\": \"Pipeline execution and model registration succeeded\"}\n",
    "    \n",
    "    # Define the EventBridge target\n",
    "    lambda_target = {\n",
    "                'Arn': lambda_arn, # Replace with the actual lambda ARN\n",
    "                'Id': 'ContentSNSLambdaFunctionTarget',\n",
    "#                 'Input': json.dumps(input_msg)\n",
    "            }\n",
    "    \n",
    "\n",
    "    # Add the target to the EventBridge rule\n",
    "    event_bridge_client.put_targets(\n",
    "        Rule=rule_name,\n",
    "        Targets=[lambda_target]\n",
    "    )\n",
    "\n",
    "    # Wait for the target to become active\n",
    "    while True:\n",
    "        response_rule = event_bridge_client.describe_rule(Name=rule_name)\n",
    "        # response_rule = event_bridge_scheduler.get_schedule(Name=schedule_name)\n",
    "\n",
    "        if response_rule['State'] == 'ENABLED':\n",
    "            print('\\n === Event Scheduled Successfully ===== \\n')\n",
    "            break\n",
    "        else:\n",
    "            print(f'response rule: {response_rule}')\n",
    "        time.sleep(5)\n",
    "\n",
    "    # Check the target status\n",
    "    response = event_bridge_client.list_targets_by_rule(Rule=rule_name)\n",
    "    \n",
    "    return response\n"
   ]
  },
  {
   "cell_type": "code",
   "execution_count": 52,
   "metadata": {},
   "outputs": [
    {
     "name": "stdout",
     "output_type": "stream",
     "text": [
      "{'Targets': [{'Id': 'ContentSNSLambdaFunctionTarget', 'Arn': 'arn:aws:lambda:us-east-1:791574662255:function:content-sns-lambda-evt-trigger-fcn'}], 'ResponseMetadata': {'RequestId': '058bf1fb-81f6-41fc-8bd7-1dd9737ed262', 'HTTPStatusCode': 200, 'HTTPHeaders': {'x-amzn-requestid': '058bf1fb-81f6-41fc-8bd7-1dd9737ed262', 'content-type': 'application/x-amz-json-1.1', 'content-length': '143', 'date': 'Tue, 28 Feb 2023 09:53:38 GMT'}, 'RetryAttempts': 0}}\n"
     ]
    }
   ],
   "source": [
    "\n",
    "# response = sns_lambda_trigger(region, account_id, sns_topic_arn, sns_client, event_bridge_client, lambda_client, lambda_fcn_name, lambda_arn)\n",
    "# print(response)"
   ]
  },
  {
   "cell_type": "code",
   "execution_count": null,
   "metadata": {},
   "outputs": [],
   "source": []
  },
  {
   "cell_type": "code",
   "execution_count": null,
   "metadata": {},
   "outputs": [],
   "source": []
  },
  {
   "cell_type": "markdown",
   "metadata": {},
   "source": [
    "# Remove rules"
   ]
  },
  {
   "cell_type": "code",
   "execution_count": null,
   "metadata": {},
   "outputs": [],
   "source": [
    "rule_name = 'ContentSNSLambdaEventRuleTrigger'\n",
    "event_bridge_client.describe_rule(Name=rule_name)\n",
    "event_bridge_client.list_targets_by_rule(Rule=rule_name)"
   ]
  },
  {
   "cell_type": "code",
   "execution_count": 14,
   "metadata": {},
   "outputs": [],
   "source": [
    "rule_name = 'ContentSNSLambdaEventRuleTrigger'\n",
    "lambda_target_id = 'ContentSNSLambdaFunctionTarget'\n",
    "# sns_target_id='SNSFunctionTarget'\n",
    "\n",
    "target_ids=[lambda_target_id] #, sns_target_id]\n",
    "\n",
    "def remove_event_rule(event_bridge_client, rule_name, target_ids):\n",
    "\n",
    "    # Disable the EventBridge rule\n",
    "    event_bridge_client.disable_rule(Name=rule_name)\n",
    "\n",
    "    # Remove the target for the EventBridge rule\n",
    "    event_bridge_client.remove_targets(Rule=rule_name, Ids=target_ids)\n",
    "    \n",
    "    # delete rule\n",
    "    event_bridge_client.delete_rule(Name=rule_name)\n",
    "\n",
    "# =============================================================================\n",
    "# remove_event_rule(event_bridge_client, rule_name, target_ids)"
   ]
  },
  {
   "cell_type": "code",
   "execution_count": null,
   "metadata": {},
   "outputs": [],
   "source": []
  },
  {
   "cell_type": "code",
   "execution_count": null,
   "metadata": {},
   "outputs": [],
   "source": []
  },
  {
   "cell_type": "markdown",
   "metadata": {},
   "source": [
    "# ================================================"
   ]
  },
  {
   "cell_type": "markdown",
   "metadata": {},
   "source": [
    "# Steps related to lambda function and role creation"
   ]
  },
  {
   "cell_type": "code",
   "execution_count": 36,
   "metadata": {},
   "outputs": [],
   "source": [
    "from lambda_utils import *\n",
    "from zipfile import ZipFile"
   ]
  },
  {
   "cell_type": "code",
   "execution_count": 29,
   "metadata": {},
   "outputs": [],
   "source": [
    "#Create IAM role for the Lambda function\n",
    "# lambda_role = create_role(role_name)"
   ]
  },
  {
   "cell_type": "code",
   "execution_count": 31,
   "metadata": {},
   "outputs": [
    {
     "name": "stdout",
     "output_type": "stream",
     "text": [
      "\n",
      " The policy lambda-sns-trigger-policy already exists. \n",
      "\n"
     ]
    }
   ],
   "source": [
    "# creating sns policy\n",
    "# sns_policy_name='lambda-sns-trigger-policy'\n",
    "# create_sns_policy(role_name, sns_policy_name, region, account_id, lambda_fcn_name, sns_topic_arn)"
   ]
  },
  {
   "cell_type": "code",
   "execution_count": 32,
   "metadata": {},
   "outputs": [
    {
     "name": "stdout",
     "output_type": "stream",
     "text": [
      "Attaching <<lambda-sns-trigger-policy>> to <<content-sns-lambda-evt-trigger-role>>\n",
      "Exception occurred while attaching sns policy- An error occurred (NoSuchEntity) when calling the AttachRolePolicy operation: Policy arn:aws:iam::aws:policy/lambda-sns-trigger-policy does not exist or is not attachable.\n"
     ]
    }
   ],
   "source": [
    "# attach sns policy to the role\n",
    "# attach_sns_policy(role_name, sns_policy_name)"
   ]
  },
  {
   "cell_type": "code",
   "execution_count": 37,
   "metadata": {},
   "outputs": [
    {
     "name": "stdout",
     "output_type": "stream",
     "text": [
      "{'arn': 'arn:aws:iam::791574662255:role/sm-lambda-sns-evt-trigger-role'}\n"
     ]
    }
   ],
   "source": [
    "lambda_role = {'arn': f\"arn:aws:iam::791574662255:role/{role_name}\"}\n",
    "print(lambda_role)"
   ]
  },
  {
   "cell_type": "code",
   "execution_count": 43,
   "metadata": {},
   "outputs": [
    {
     "name": "stdout",
     "output_type": "stream",
     "text": [
      "Creating AWS Lambda function ...\n",
      "SUCCESS: Successfully created AWS Lambda function!\n"
     ]
    }
   ],
   "source": [
    "#Zip AWS Lambda function code\n",
    "#Write code to a .py file\n",
    "# with open('lambda_function.py', 'w') as f:\n",
    "#     f.write(inspect.cleandoc(lambda_code))\n",
    "\n",
    "\n",
    "lambda_output_path = 'lambda_output'\n",
    "module_name='sns_trigger_lambda_function'\n",
    "fcn_desc = 'AWS Lambda function for automatically triggering SNS Notification after successful pipeline execution.'\n",
    "\n",
    "os.makedirs(name=lambda_output_path, exist_ok=True)\n",
    "\n",
    "zip_path = os.path.join(lambda_output_path, 'function.zip')\n",
    "\n",
    "#Compress file into a zip\n",
    "with ZipFile(zip_path,'w') as z:\n",
    "    z.write(f\"{module_name}.py\")\n",
    "\n",
    "#Use zipped code as AWS Lambda function code\n",
    "with open(zip_path, 'rb') as f:\n",
    "    fcn_code = f.read()\n",
    "\n",
    "shutil.rmtree(lambda_output_path)\n",
    "\n",
    "#Create AWS Lambda function\n",
    "lambda_arn = create_lambda(module_name, lambda_fcn_name, fcn_desc, fcn_code, lambda_role['arn'])"
   ]
  },
  {
   "cell_type": "code",
   "execution_count": 44,
   "metadata": {},
   "outputs": [
    {
     "name": "stdout",
     "output_type": "stream",
     "text": [
      "arn:aws:lambda:us-east-1:791574662255:function:content-sns-lambda-evt-trigger-fcn\n"
     ]
    }
   ],
   "source": [
    "print(lambda_arn)"
   ]
  },
  {
   "cell_type": "code",
   "execution_count": null,
   "metadata": {},
   "outputs": [],
   "source": []
  },
  {
   "cell_type": "code",
   "execution_count": 53,
   "metadata": {},
   "outputs": [],
   "source": [
    "# This file contains a small sample of ovr data\n",
    "sagemaker.s3.S3Uploader.upload(\"./data/ovr_content_data_v3.csv\", \n",
    "                               f\"s3://{bucket}/{train_data_dir_prefix}\")\n",
    "#wait for file to finish uploading \n",
    "time.sleep(5)"
   ]
  },
  {
   "cell_type": "code",
   "execution_count": null,
   "metadata": {},
   "outputs": [],
   "source": []
  }
 ],
 "metadata": {
  "instance_type": "ml.t3.medium",
  "kernelspec": {
   "display_name": "Python 3 (Data Science)",
   "language": "python",
   "name": "python3__SAGEMAKER_INTERNAL__arn:aws:sagemaker:us-east-1:081325390199:image/datascience-1.0"
  },
  "language_info": {
   "codemirror_mode": {
    "name": "ipython",
    "version": 3
   },
   "file_extension": ".py",
   "mimetype": "text/x-python",
   "name": "python",
   "nbconvert_exporter": "python",
   "pygments_lexer": "ipython3",
   "version": "3.7.10"
  }
 },
 "nbformat": 4,
 "nbformat_minor": 4
}

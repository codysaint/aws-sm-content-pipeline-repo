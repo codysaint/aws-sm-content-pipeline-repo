{
 "cells": [
  {
   "cell_type": "markdown",
   "metadata": {},
   "source": [
    "# Import Libraries"
   ]
  },
  {
   "cell_type": "code",
   "execution_count": 2,
   "metadata": {},
   "outputs": [],
   "source": [
    "import os\n",
    "import shutil\n",
    "import time\n",
    "import json\n",
    "import requests\n",
    "import tempfile\n",
    "import numpy as np\n",
    "import pandas as pd\n",
    "\n",
    "import boto3\n",
    "import sagemaker\n",
    "from datetime import datetime"
   ]
  },
  {
   "cell_type": "markdown",
   "metadata": {},
   "source": [
    "# Setup Region, session, and role"
   ]
  },
  {
   "cell_type": "code",
   "execution_count": 3,
   "metadata": {},
   "outputs": [],
   "source": [
    "region = os.environ[\"AWS_REGION\"]\n",
    "boto_session = boto3.Session(region_name=region)\n",
    "# sagemaker_boto_client = boto_session.client(\"sagemaker\")\n",
    "\n",
    "\n",
    "account_id = boto_session.client(\"sts\").get_caller_identity()[\"Account\"]\n",
    "s3_client = boto3.client(\"s3\", region_name=region)\n",
    "sm_client = boto3.client(\"sagemaker\", region_name=region)\n",
    "\n",
    "# Get the AWS EventBridge client\n",
    "event_bridge_client = boto3.client('events')\n",
    "lambda_client = boto3.client('lambda')\n",
    "event_bridge_scheduler = boto3.client(\"scheduler\")\n",
    "\n",
    "sns_client = boto3.client('sns')\n",
    "cloudwatch = boto3.client('cloudwatch')\n",
    "\n",
    "sagemaker_session = sagemaker.Session(\n",
    "    boto_session=boto_session, sagemaker_client=sm_client\n",
    ")"
   ]
  },
  {
   "cell_type": "markdown",
   "metadata": {},
   "source": [
    "# Initialize variables"
   ]
  },
  {
   "cell_type": "code",
   "execution_count": 4,
   "metadata": {},
   "outputs": [],
   "source": [
    "# S3 prefix\n",
    "bucket = \"artwork-content-trial-bucket\"\n",
    "prefix=\"mch-artwork-content\"\n",
    "train_data_dir_prefix=\"data\"\n",
    "pipeline_dir_prefix=\"pipeline-data\"\n",
    "# training_input_prefix = \"content_ovr_anonymised.csv\"\n",
    "training_input_prefix = \"ovr_content_data\"\n"
   ]
  },
  {
   "cell_type": "code",
   "execution_count": null,
   "metadata": {},
   "outputs": [],
   "source": []
  },
  {
   "cell_type": "markdown",
   "metadata": {},
   "source": [
    "# ========================================="
   ]
  },
  {
   "cell_type": "markdown",
   "metadata": {},
   "source": [
    "# Cloudwatch alarm for sending SNS"
   ]
  },
  {
   "cell_type": "code",
   "execution_count": 29,
   "metadata": {},
   "outputs": [],
   "source": [
    "def create_pipeline_execution_success_alarm(cloudwatch, alarm_name, namespace, sns_topic_arn, pipeline_name):\n",
    "    # Create alarm for successful pipeline execution\n",
    "    exec_alarm_response = cloudwatch.put_metric_alarm(\n",
    "            AlarmName=alarm_name,\n",
    "            ComparisonOperator='GreaterThanThreshold',\n",
    "            EvaluationPeriods=1,\n",
    "            MetricName='ExecutionSucceeded',\n",
    "            Namespace=namespace,\n",
    "            Period=60,\n",
    "            Statistic='Average',\n",
    "            Threshold=0,\n",
    "            ActionsEnabled=True,\n",
    "            AlarmDescription='Model Retraining and deployment pipeline is successfully executed',\n",
    "#             AlarmActions=[\n",
    "#                 sns_topic_arn\n",
    "#             ],\n",
    "            Dimensions=[\n",
    "                {\n",
    "                  'Name': 'PipelineName',\n",
    "                  'Value': pipeline_name\n",
    "                }]\n",
    "        )\n"
   ]
  },
  {
   "cell_type": "code",
   "execution_count": 30,
   "metadata": {},
   "outputs": [],
   "source": [
    "def create_model_reg_success_alarm(cloudwatch, alarm_name, namespace, sns_topic_arn, pipeline_name, step_name):\n",
    "    \n",
    "    # Create alarm for successful model registration\n",
    "    reg_alarm_response = cloudwatch.put_metric_alarm(\n",
    "        AlarmName= alarm_name,\n",
    "        ComparisonOperator='GreaterThanThreshold',\n",
    "        EvaluationPeriods=1,\n",
    "        MetricName='StepSucceeded',\n",
    "        Namespace=namespace,\n",
    "        Period=60,\n",
    "        Statistic='Minimum',\n",
    "        Threshold=0,\n",
    "        ActionsEnabled=True,\n",
    "        AlarmDescription='Model Version registered successfully',\n",
    "#         AlarmActions=[\n",
    "#           sns_topic_arn\n",
    "#         ],\n",
    "        Dimensions=[\n",
    "            {\n",
    "              'Name': 'PipelineName',\n",
    "              'Value': pipeline_name\n",
    "            },\n",
    "            {\n",
    "              'Name': 'StepName',\n",
    "              'Value': step_name\n",
    "            },\n",
    "        ]\n",
    "    )\n",
    "             "
   ]
  },
  {
   "cell_type": "code",
   "execution_count": 12,
   "metadata": {},
   "outputs": [],
   "source": [
    "def sns_subscribe(sns_client, sns_topic_arn, email_address):\n",
    "    # subcribe to emails\n",
    "#     for email_address in email_addresses:\n",
    "    subscribe_response = sns_client.subscribe(\n",
    "                                                TopicArn= sns_topic_arn,\n",
    "                                                Protocol='email',\n",
    "                                            Endpoint=email_address,\n",
    "                                                ReturnSubscriptionArn=True\n",
    "                                            )\n",
    "    \n",
    "    return subscribe_response"
   ]
  },
  {
   "cell_type": "code",
   "execution_count": 44,
   "metadata": {},
   "outputs": [],
   "source": [
    "def set_sns_alarm(sns_client, cloudwatch,  model_alarm_name, pipeline_alarm_name, topic_name, sns_topic_arn, email_address, namespace, pipeline_name, step_name):\n",
    "    \n",
    "    topic_arns = sns_client.list_topics()['Topics']\n",
    "    \n",
    "    for topic in topic_arns:\n",
    "        if topic_name in topic['TopicArn']:\n",
    "            print(\"Topic name {} found in {}\".format(topic_name, topic['TopicArn']))\n",
    "            break\n",
    "    else:\n",
    "        print('new topic created')\n",
    "        topic_response = sns_client.create_topic(\n",
    "                            Name=topic_name\n",
    "                        )\n",
    "    # print(topic_response)\n",
    "    \n",
    "    # sns_subscribe(sns_client, sns_topic_arn, email_address)\n",
    "    \n",
    "    create_pipeline_execution_success_alarm(cloudwatch, pipeline_alarm_name, namespace, sns_topic_arn, pipeline_name)\n",
    "    \n",
    "    create_model_reg_success_alarm(cloudwatch, model_alarm_name, namespace, sns_topic_arn, pipeline_name, step_name)\n",
    "    "
   ]
  },
  {
   "cell_type": "code",
   "execution_count": 45,
   "metadata": {},
   "outputs": [],
   "source": [
    "namespace = 'AWS/Sagemaker/ModelBuildingPipeline'\n",
    "pipeline_name ='artwork-content-pipeline-demo'\n",
    "topic_name = 'PipelineExecutionAlarmTopic'\n",
    "sns_topic_arn = f'arn:aws:sns:{region}:{account_id}:{topic_name}'\n",
    "step_name = 'RegisterModelStep-RegisterModel'\n",
    "email_address='vchitrakathi@dminc.com'#, 'chitrakathi03@gmail.com']\n",
    "model_alarm_name='Model_Version_Registration_Alarm'\n",
    "pipeline_alarm_name='SageMaker_Pipeline_Execution_Alarm'"
   ]
  },
  {
   "cell_type": "code",
   "execution_count": 46,
   "metadata": {},
   "outputs": [
    {
     "name": "stdout",
     "output_type": "stream",
     "text": [
      "Topic name PipelineExecutionAlarmTopic found in arn:aws:sns:us-east-1:791574662255:PipelineExecutionAlarmTopic\n"
     ]
    }
   ],
   "source": [
    "set_sns_alarm(sns_client, cloudwatch, model_alarm_name, pipeline_alarm_name, topic_name, sns_topic_arn, email_address, namespace, pipeline_name, step_name)"
   ]
  },
  {
   "cell_type": "markdown",
   "metadata": {},
   "source": [
    "# ==============================================="
   ]
  },
  {
   "cell_type": "markdown",
   "metadata": {},
   "source": [
    "# Delete Alarms"
   ]
  },
  {
   "cell_type": "code",
   "execution_count": 28,
   "metadata": {},
   "outputs": [],
   "source": [
    "# cloudwatch.delete_alarms(AlarmNames=[model_alarm_name, pipeline_alarm_name])"
   ]
  }
 ],
 "metadata": {
  "instance_type": "ml.t3.medium",
  "kernelspec": {
   "display_name": "Python 3 (Data Science)",
   "language": "python",
   "name": "python3__SAGEMAKER_INTERNAL__arn:aws:sagemaker:us-east-1:081325390199:image/datascience-1.0"
  },
  "language_info": {
   "codemirror_mode": {
    "name": "ipython",
    "version": 3
   },
   "file_extension": ".py",
   "mimetype": "text/x-python",
   "name": "python",
   "nbconvert_exporter": "python",
   "pygments_lexer": "ipython3",
   "version": "3.7.10"
  }
 },
 "nbformat": 4,
 "nbformat_minor": 4
}

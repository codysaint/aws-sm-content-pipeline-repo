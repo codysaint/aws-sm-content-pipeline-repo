{
 "cells": [
  {
   "cell_type": "code",
   "execution_count": 1,
   "metadata": {},
   "outputs": [],
   "source": [
    "import os\n",
    "import time\n",
    "import json\n",
    "import requests\n",
    "import tempfile\n",
    "import numpy as np\n",
    "import pandas as pd\n",
    "\n",
    "import boto3\n",
    "import sagemaker\n",
    "from sagemaker.inputs import TrainingInput\n",
    "from sagemaker.workflow.steps import TrainingStep, CreateModelStep, ProcessingStep\n",
    "\n",
    "from sagemaker.estimator import Estimator\n",
    "from sagemaker import get_execution_role\n",
    "\n",
    "from sagemaker.workflow.pipeline import Pipeline\n",
    "from sagemaker.workflow.pipeline_context import PipelineSession\n",
    "from sagemaker.workflow.parameters import ParameterString\n",
    "from sagemaker.model import Model\n",
    "from sagemaker.pipeline import PipelineModel\n",
    "from sagemaker.workflow.model_step import ModelStep\n",
    "from sagemaker.sklearn.processing import SKLearnProcessor"
   ]
  },
  {
   "cell_type": "code",
   "execution_count": 2,
   "metadata": {},
   "outputs": [],
   "source": [
    "# region = boto3.Session().region_name\n",
    "# boto3.setup_default_session(region_name=region)\n",
    "# boto_session = boto3.Session(region_name=region)\n",
    "\n",
    "# s3_client = boto3.client(\"s3\", region_name=region)\n",
    "\n",
    "# sagemaker_boto_client = boto_session.client(\"sagemaker\")\n",
    "# sagemaker_session = sagemaker.session.Session(\n",
    "#     boto_session=boto_session, sagemaker_client=sagemaker_boto_client\n",
    "# )\n",
    "\n",
    "# print(region, boto_session, s3_client, sagemaker_boto_client, sagemaker_session)"
   ]
  },
  {
   "cell_type": "code",
   "execution_count": 3,
   "metadata": {},
   "outputs": [],
   "source": [
    "sagemaker_session = sagemaker.session.Session()\n",
    "account = sagemaker_session.boto_session.client(\"sts\").get_caller_identity()[\"Account\"]\n",
    "region = sagemaker_session.boto_session.region_name\n",
    "s3_client = boto3.client(\"s3\", region_name=region)\n",
    "sm_client = boto3.client(\"sagemaker\", region_name=region)\n",
    "role = get_execution_role()\n",
    "\n",
    "# print(sagemaker_session, account, region, role)"
   ]
  },
  {
   "cell_type": "code",
   "execution_count": 4,
   "metadata": {},
   "outputs": [],
   "source": [
    "# S3 prefix\n",
    "bucket = \"ml-training-data-model\"\n",
    "prefix=\"mch-artwork-content\"\n",
    "training_input_prefix = \"content_ovr_anonymised.csv\"\n",
    "model_approval_status = ParameterString(\n",
    "    name=\"ModelApprovalStatus\", default_value=\"Approved\"\n",
    ")\n"
   ]
  },
  {
   "cell_type": "code",
   "execution_count": 5,
   "metadata": {},
   "outputs": [],
   "source": [
    "training_input = f\"s3://{bucket}/{training_input_prefix}\""
   ]
  },
  {
   "cell_type": "code",
   "execution_count": 6,
   "metadata": {},
   "outputs": [],
   "source": [
    "image_uri = '791574662255.dkr.ecr.us-east-1.amazonaws.com/artwork-content-model:latest'\n",
    "model_path = f\"s3://{bucket}\""
   ]
  },
  {
   "cell_type": "code",
   "execution_count": 7,
   "metadata": {},
   "outputs": [],
   "source": [
    "\n",
    "content = Estimator(\n",
    "    image_uri=image_uri,\n",
    "    instance_type=\"ml.m5.xlarge\",\n",
    "    instance_count=1,\n",
    "    output_path=model_path,\n",
    "    role=role,\n",
    ")\n"
   ]
  },
  {
   "cell_type": "code",
   "execution_count": 8,
   "metadata": {},
   "outputs": [],
   "source": [
    "step_train = TrainingStep(\n",
    "    name=\"training\",\n",
    "    estimator=content,\n",
    "    inputs=training_input,\n",
    ")"
   ]
  },
  {
   "cell_type": "code",
   "execution_count": 9,
   "metadata": {},
   "outputs": [],
   "source": [
    "mdl_name=\"artwork_content_model\"\n",
    "model = Model(\n",
    "    name=mdl_name,\n",
    "    image_uri=content.training_image_uri(),\n",
    "    model_data=step_train.properties.ModelArtifacts.S3ModelArtifacts,\n",
    "    sagemaker_session=PipelineSession(),\n",
    "    role=role,\n",
    ")"
   ]
  },
  {
   "cell_type": "code",
   "execution_count": 10,
   "metadata": {},
   "outputs": [],
   "source": [
    "pipeline_session = PipelineSession()\n",
    "\n",
    "pipeline_model = PipelineModel(\n",
    "        models=[model],\n",
    "        role=role,\n",
    "        sagemaker_session=pipeline_session,\n",
    ")"
   ]
  },
  {
   "cell_type": "code",
   "execution_count": 11,
   "metadata": {},
   "outputs": [
    {
     "name": "stderr",
     "output_type": "stream",
     "text": [
      "/opt/conda/lib/python3.7/site-packages/sagemaker/workflow/pipeline_context.py:261: UserWarning: Running within a PipelineSession, there will be No Wait, No Logs, and No Job being started.\n",
      "  UserWarning,\n"
     ]
    }
   ],
   "source": [
    "# timestamp = datetime.datetime.now().strftime(\"%Y-%m-%d-%H-%M\")\n",
    "# mpg_name = f\"artwork-content-{timestamp}\"\n",
    "mpg_name = \"MCH-Content-Models\"\n",
    "\n",
    "register_model_step_args = pipeline_model.register(\n",
    "    content_types=[\"application/json\"],\n",
    "    response_types=[\"application/json\"],\n",
    "    inference_instances=[\"ml.t2.medium\", \"ml.m5.xlarge\"],\n",
    "    model_package_group_name=mpg_name,\n",
    "    approval_status=model_approval_status\n",
    ")"
   ]
  },
  {
   "cell_type": "code",
   "execution_count": 12,
   "metadata": {},
   "outputs": [
    {
     "data": {
      "text/plain": [
       "{'ModelPackageSummaryList': [{'ModelPackageGroupName': 'MCH-Content-Models',\n",
       "   'ModelPackageVersion': 12,\n",
       "   'ModelPackageArn': 'arn:aws:sagemaker:us-east-1:791574662255:model-package/mch-content-models/12',\n",
       "   'CreationTime': datetime.datetime(2023, 1, 4, 11, 14, 0, 836000, tzinfo=tzlocal()),\n",
       "   'ModelPackageStatus': 'Completed',\n",
       "   'ModelApprovalStatus': 'Approved'},\n",
       "  {'ModelPackageGroupName': 'MCH-Content-Models',\n",
       "   'ModelPackageVersion': 11,\n",
       "   'ModelPackageArn': 'arn:aws:sagemaker:us-east-1:791574662255:model-package/mch-content-models/11',\n",
       "   'CreationTime': datetime.datetime(2023, 1, 4, 8, 51, 4, 819000, tzinfo=tzlocal()),\n",
       "   'ModelPackageStatus': 'Completed',\n",
       "   'ModelApprovalStatus': 'Approved'},\n",
       "  {'ModelPackageGroupName': 'MCH-Content-Models',\n",
       "   'ModelPackageVersion': 10,\n",
       "   'ModelPackageArn': 'arn:aws:sagemaker:us-east-1:791574662255:model-package/mch-content-models/10',\n",
       "   'CreationTime': datetime.datetime(2023, 1, 4, 5, 30, 53, 445000, tzinfo=tzlocal()),\n",
       "   'ModelPackageStatus': 'Completed',\n",
       "   'ModelApprovalStatus': 'Approved'},\n",
       "  {'ModelPackageGroupName': 'MCH-Content-Models',\n",
       "   'ModelPackageVersion': 9,\n",
       "   'ModelPackageArn': 'arn:aws:sagemaker:us-east-1:791574662255:model-package/mch-content-models/9',\n",
       "   'CreationTime': datetime.datetime(2023, 1, 4, 5, 1, 54, 836000, tzinfo=tzlocal()),\n",
       "   'ModelPackageStatus': 'Completed',\n",
       "   'ModelApprovalStatus': 'Approved'},\n",
       "  {'ModelPackageGroupName': 'MCH-Content-Models',\n",
       "   'ModelPackageVersion': 8,\n",
       "   'ModelPackageArn': 'arn:aws:sagemaker:us-east-1:791574662255:model-package/mch-content-models/8',\n",
       "   'CreationTime': datetime.datetime(2023, 1, 4, 4, 50, 40, 316000, tzinfo=tzlocal()),\n",
       "   'ModelPackageStatus': 'Completed',\n",
       "   'ModelApprovalStatus': 'PendingManualApproval'},\n",
       "  {'ModelPackageGroupName': 'MCH-Content-Models',\n",
       "   'ModelPackageVersion': 7,\n",
       "   'ModelPackageArn': 'arn:aws:sagemaker:us-east-1:791574662255:model-package/mch-content-models/7',\n",
       "   'CreationTime': datetime.datetime(2023, 1, 2, 9, 21, 46, 271000, tzinfo=tzlocal()),\n",
       "   'ModelPackageStatus': 'Completed',\n",
       "   'ModelApprovalStatus': 'PendingManualApproval'},\n",
       "  {'ModelPackageGroupName': 'MCH-Content-Models',\n",
       "   'ModelPackageVersion': 6,\n",
       "   'ModelPackageArn': 'arn:aws:sagemaker:us-east-1:791574662255:model-package/mch-content-models/6',\n",
       "   'CreationTime': datetime.datetime(2022, 12, 30, 11, 10, 4, 789000, tzinfo=tzlocal()),\n",
       "   'ModelPackageStatus': 'Completed',\n",
       "   'ModelApprovalStatus': 'PendingManualApproval'},\n",
       "  {'ModelPackageGroupName': 'MCH-Content-Models',\n",
       "   'ModelPackageVersion': 5,\n",
       "   'ModelPackageArn': 'arn:aws:sagemaker:us-east-1:791574662255:model-package/mch-content-models/5',\n",
       "   'CreationTime': datetime.datetime(2022, 12, 30, 11, 9, 45, 860000, tzinfo=tzlocal()),\n",
       "   'ModelPackageStatus': 'Completed',\n",
       "   'ModelApprovalStatus': 'PendingManualApproval'},\n",
       "  {'ModelPackageGroupName': 'MCH-Content-Models',\n",
       "   'ModelPackageVersion': 4,\n",
       "   'ModelPackageArn': 'arn:aws:sagemaker:us-east-1:791574662255:model-package/mch-content-models/4',\n",
       "   'CreationTime': datetime.datetime(2022, 12, 30, 11, 9, 42, 43000, tzinfo=tzlocal()),\n",
       "   'ModelPackageStatus': 'Completed',\n",
       "   'ModelApprovalStatus': 'PendingManualApproval'},\n",
       "  {'ModelPackageGroupName': 'MCH-Content-Models',\n",
       "   'ModelPackageVersion': 3,\n",
       "   'ModelPackageArn': 'arn:aws:sagemaker:us-east-1:791574662255:model-package/mch-content-models/3',\n",
       "   'CreationTime': datetime.datetime(2022, 12, 30, 8, 31, 18, 321000, tzinfo=tzlocal()),\n",
       "   'ModelPackageStatus': 'Completed',\n",
       "   'ModelApprovalStatus': 'PendingManualApproval'},\n",
       "  {'ModelPackageGroupName': 'MCH-Content-Models',\n",
       "   'ModelPackageVersion': 2,\n",
       "   'ModelPackageArn': 'arn:aws:sagemaker:us-east-1:791574662255:model-package/mch-content-models/2',\n",
       "   'CreationTime': datetime.datetime(2022, 12, 30, 7, 21, 57, 55000, tzinfo=tzlocal()),\n",
       "   'ModelPackageStatus': 'Completed',\n",
       "   'ModelApprovalStatus': 'Approved'},\n",
       "  {'ModelPackageGroupName': 'MCH-Content-Models',\n",
       "   'ModelPackageVersion': 1,\n",
       "   'ModelPackageArn': 'arn:aws:sagemaker:us-east-1:791574662255:model-package/mch-content-models/1',\n",
       "   'CreationTime': datetime.datetime(2022, 12, 30, 6, 18, 29, 273000, tzinfo=tzlocal()),\n",
       "   'ModelPackageStatus': 'Completed',\n",
       "   'ModelApprovalStatus': 'Approved'}],\n",
       " 'ResponseMetadata': {'RequestId': '7758fef9-fe2b-448a-91ce-8c20f19498d6',\n",
       "  'HTTPStatusCode': 200,\n",
       "  'HTTPHeaders': {'x-amzn-requestid': '7758fef9-fe2b-448a-91ce-8c20f19498d6',\n",
       "   'content-type': 'application/x-amz-json-1.1',\n",
       "   'content-length': '3292',\n",
       "   'date': 'Thu, 05 Jan 2023 05:53:52 GMT'},\n",
       "  'RetryAttempts': 0}}"
      ]
     },
     "execution_count": 12,
     "metadata": {},
     "output_type": "execute_result"
    }
   ],
   "source": [
    "sm_client.list_model_packages(ModelPackageGroupName=mpg_name)"
   ]
  },
  {
   "cell_type": "code",
   "execution_count": 13,
   "metadata": {},
   "outputs": [],
   "source": [
    "model_name = \"artwork-content-model\" \n",
    "step_model_registration = ModelStep(\n",
    "   name=model_name,\n",
    "   step_args=register_model_step_args,\n",
    ")"
   ]
  },
  {
   "cell_type": "code",
   "execution_count": 14,
   "metadata": {},
   "outputs": [],
   "source": [
    "step_model_create = ModelStep(\n",
    "   name=f\"{model_name}-creation\",\n",
    "   step_args=model.create(instance_type=\"ml.m5.xlarge\"),\n",
    ")"
   ]
  },
  {
   "cell_type": "code",
   "execution_count": 15,
   "metadata": {},
   "outputs": [
    {
     "data": {
      "text/plain": [
       "<sagemaker.workflow.properties.Properties at 0x7f69eff69250>"
      ]
     },
     "execution_count": 15,
     "metadata": {},
     "output_type": "execute_result"
    }
   ],
   "source": [
    "step_model_create.properties.ModelName"
   ]
  },
  {
   "cell_type": "code",
   "execution_count": 16,
   "metadata": {},
   "outputs": [],
   "source": [
    "s3_client.upload_file(Filename=\"deploy.py\", Bucket=bucket, Key=\"code/deploy.py\")\n",
    "deploy_script_uri = f\"s3://{bucket}/code/deploy.py\"\n",
    "\n",
    "deployment_processor = SKLearnProcessor(\n",
    "    framework_version=\"1.0-1\",\n",
    "    role=role,\n",
    "    instance_type=\"ml.t3.medium\",\n",
    "    instance_count=1,\n",
    "    base_job_name=f\"{prefix}-deploy\",\n",
    "    sagemaker_session=sagemaker_session,\n",
    ")\n",
    "\n",
    "deploy_step = ProcessingStep(\n",
    "    name=\"DeployModel\",\n",
    "    processor=deployment_processor,\n",
    "    job_arguments=[\n",
    "        \"--model-name\",\n",
    "        step_model_create.properties.ModelName,\n",
    "        \"--region\",\n",
    "        region,\n",
    "        \"--endpoint-instance-type\",\n",
    "        \"ml.m4.xlarge\",\n",
    "        \"--endpoint-name\",\n",
    "        \"mch-artwork-content-endpoint-1\",\n",
    "    ],\n",
    "    code=deploy_script_uri,\n",
    ")"
   ]
  },
  {
   "cell_type": "code",
   "execution_count": null,
   "metadata": {},
   "outputs": [],
   "source": []
  },
  {
   "cell_type": "code",
   "execution_count": 17,
   "metadata": {},
   "outputs": [],
   "source": [
    "pipeline_name = f\"artwork-content-pipeline\"\n",
    "\n",
    "pipeline_steps = [step_train, step_model_create, step_model_registration, deploy_step]\n",
    "\n",
    "pipeline = Pipeline(\n",
    "    name=pipeline_name,\n",
    "    parameters=[model_approval_status],\n",
    "    steps=pipeline_steps,\n",
    ")"
   ]
  },
  {
   "cell_type": "code",
   "execution_count": 18,
   "metadata": {},
   "outputs": [],
   "source": [
    "# json.loads(pipeline.definition())"
   ]
  },
  {
   "cell_type": "code",
   "execution_count": 19,
   "metadata": {},
   "outputs": [
    {
     "name": "stderr",
     "output_type": "stream",
     "text": [
      "Popping out 'CertifyForMarketplace' from the pipeline definition since it will be overridden in pipeline execution time.\n"
     ]
    },
    {
     "data": {
      "text/plain": [
       "{'PipelineArn': 'arn:aws:sagemaker:us-east-1:791574662255:pipeline/artwork-content-pipeline',\n",
       " 'ResponseMetadata': {'RequestId': '18f09a83-ec4f-4154-8f3f-696965f47e78',\n",
       "  'HTTPStatusCode': 200,\n",
       "  'HTTPHeaders': {'x-amzn-requestid': '18f09a83-ec4f-4154-8f3f-696965f47e78',\n",
       "   'content-type': 'application/x-amz-json-1.1',\n",
       "   'content-length': '92',\n",
       "   'date': 'Thu, 05 Jan 2023 05:53:54 GMT'},\n",
       "  'RetryAttempts': 0}}"
      ]
     },
     "execution_count": 19,
     "metadata": {},
     "output_type": "execute_result"
    }
   ],
   "source": [
    "pipeline.upsert(role_arn=role)"
   ]
  },
  {
   "cell_type": "code",
   "execution_count": 20,
   "metadata": {},
   "outputs": [
    {
     "data": {
      "text/plain": [
       "_PipelineExecution(arn='arn:aws:sagemaker:us-east-1:791574662255:pipeline/artwork-content-pipeline/execution/tcvyht35077h', sagemaker_session=<sagemaker.session.Session object at 0x7f69eff7a8d0>)"
      ]
     },
     "execution_count": 20,
     "metadata": {},
     "output_type": "execute_result"
    }
   ],
   "source": [
    "execution = pipeline.start()\n",
    "execution"
   ]
  },
  {
   "cell_type": "code",
   "execution_count": 21,
   "metadata": {},
   "outputs": [],
   "source": [
    "# execution.describe()"
   ]
  },
  {
   "cell_type": "code",
   "execution_count": 22,
   "metadata": {},
   "outputs": [],
   "source": [
    "# execution.wait()"
   ]
  },
  {
   "cell_type": "code",
   "execution_count": 23,
   "metadata": {},
   "outputs": [],
   "source": [
    "# execution.list_steps()"
   ]
  },
  {
   "cell_type": "code",
   "execution_count": 24,
   "metadata": {},
   "outputs": [],
   "source": [
    "import time\n",
    "from sagemaker.lineage.visualizer import LineageTableVisualizer\n",
    "\n",
    "\n",
    "viz = LineageTableVisualizer(sagemaker.session.Session())\n",
    "for execution_step in reversed(execution.list_steps()):\n",
    "    print(execution_step)\n",
    "    display(viz.show(pipeline_execution_step=execution_step))\n",
    "    time.sleep(5)"
   ]
  },
  {
   "cell_type": "code",
   "execution_count": 25,
   "metadata": {},
   "outputs": [],
   "source": [
    "# s3_client.upload_file(Filename=\"deploy.py\", Bucket=bucket, Key=\"code/deploy.py\")\n",
    "# deploy_script_uri = f\"s3://{bucket}/code/deploy.py\"\n",
    "\n",
    "# deployment_processor = SKLearnProcessor(\n",
    "#     framework_version=\"1.0-1\",\n",
    "#     role=role,\n",
    "#     instance_type=\"ml.t3.medium\",\n",
    "#     instance_count=1,\n",
    "#     base_job_name=f\"{prefix}-deploy\",\n",
    "#     sagemaker_session=sagemaker_session,\n",
    "# )\n",
    "\n",
    "# deploy_step = ProcessingStep(\n",
    "#     name=\"DeployModel\",\n",
    "#     processor=deployment_processor,\n",
    "#     job_arguments=[\n",
    "#         \"--model-name\",\n",
    "#         step_model_registration.name,\n",
    "#         \"--region\",\n",
    "#         region,\n",
    "#         \"--endpoint-instance-type\",\n",
    "#         \"ml.m4.xlarge\",\n",
    "#         \"--endpoint-name\",\n",
    "#         \"mch-artwork-content-endpoint\",\n",
    "#     ],\n",
    "#     code=deploy_script_uri,\n",
    "# )"
   ]
  },
  {
   "cell_type": "code",
   "execution_count": 26,
   "metadata": {},
   "outputs": [],
   "source": [
    "# sklearn_processor = SKLearnProcessor(\n",
    "#     framework_version=\"1.0-1\",\n",
    "#     instance_type=processing_instance_type,\n",
    "#     instance_count=processing_instance_count,\n",
    "#     base_job_name=\"comprehend-process\",\n",
    "#     sagemaker_session=sagemaker_session,\n",
    "#     role=role_arn,\n",
    "# )"
   ]
  },
  {
   "cell_type": "code",
   "execution_count": null,
   "metadata": {},
   "outputs": [],
   "source": []
  },
  {
   "cell_type": "code",
   "execution_count": null,
   "metadata": {},
   "outputs": [],
   "source": []
  },
  {
   "cell_type": "code",
   "execution_count": 27,
   "metadata": {},
   "outputs": [],
   "source": [
    "# from sklearn.preprocessing import FunctionTransformer\n",
    "# step_deploy_model = ProcessingStep(\n",
    "#     name=\"ContentDeploy\",\n",
    "#     processor=sklearn_processor,\n",
    "#     job_arguments=[\n",
    "#         \"--arn-path\",\n",
    "#         step_model_registration.properties.ProcessingOutputConfig.Outputs[\"arn\"].S3Output.S3Uri,\n",
    "#     ],\n",
    "#     code=\"deply.py\",\n",
    "#     outputs=[\n",
    "#         ProcessingOutput(output_name=\"endpoint_arn\", source=\"/opt/ml/processing/endpoint_arn\")\n",
    "#     ],\n",
    "# )"
   ]
  },
  {
   "cell_type": "code",
   "execution_count": null,
   "metadata": {},
   "outputs": [],
   "source": []
  },
  {
   "cell_type": "code",
   "execution_count": null,
   "metadata": {},
   "outputs": [],
   "source": []
  }
 ],
 "metadata": {
  "instance_type": "ml.t3.medium",
  "kernelspec": {
   "display_name": "Python 3 (Data Science)",
   "language": "python",
   "name": "python3__SAGEMAKER_INTERNAL__arn:aws:sagemaker:us-east-1:081325390199:image/datascience-1.0"
  },
  "language_info": {
   "codemirror_mode": {
    "name": "ipython",
    "version": 3
   },
   "file_extension": ".py",
   "mimetype": "text/x-python",
   "name": "python",
   "nbconvert_exporter": "python",
   "pygments_lexer": "ipython3",
   "version": "3.7.10"
  }
 },
 "nbformat": 4,
 "nbformat_minor": 4
}

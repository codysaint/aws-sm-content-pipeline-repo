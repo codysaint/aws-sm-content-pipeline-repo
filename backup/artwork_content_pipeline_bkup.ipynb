{
 "cells": [
  {
   "cell_type": "code",
   "execution_count": null,
   "metadata": {},
   "outputs": [],
   "source": [
    "import os\n",
    "import time\n",
    "import json\n",
    "import requests\n",
    "import tempfile\n",
    "import numpy as np\n",
    "import pandas as pd\n",
    "\n",
    "import boto3\n",
    "import sagemaker\n",
    "from sagemaker.inputs import TrainingInput, CreateModelInput\n",
    "from sagemaker.workflow.steps import TrainingStep, CreateModelStep, ProcessingStep\n",
    "\n",
    "from sagemaker.estimator import Estimator\n",
    "from sagemaker import get_execution_role\n",
    "\n",
    "from sagemaker.workflow.pipeline import Pipeline\n",
    "from sagemaker.workflow.pipeline_context import PipelineSession\n",
    "from sagemaker.workflow.parameters import ParameterString\n",
    "from sagemaker.model import Model\n",
    "from sagemaker.pipeline import PipelineModel\n",
    "from sagemaker.workflow.model_step import ModelStep\n",
    "from sagemaker.sklearn.processing import SKLearnProcessor\n",
    "from sagemaker.processing import ProcessingOutput, ProcessingInput\n",
    "\n",
    "from sagemaker.sklearn import SKLearnModel"
   ]
  },
  {
   "cell_type": "code",
   "execution_count": 4,
   "metadata": {},
   "outputs": [],
   "source": [
    "region = boto3.Session().region_name\n",
    "boto_session = boto3.Session(region_name=region)\n",
    "sagemaker_boto_client = boto_session.client(\"sagemaker\")\n",
    "\n",
    "# sagemaker_session = sagemaker.session.Session()\n",
    "sagemaker_session = sagemaker.session.Session(\n",
    "    boto_session=boto_session, sagemaker_client=sagemaker_boto_client\n",
    ")\n",
    "\n",
    "account = sagemaker_session.boto_session.client(\"sts\").get_caller_identity()[\"Account\"]\n",
    "# region = sagemaker_session.boto_session.region_name\n",
    "s3_client = boto3.client(\"s3\", region_name=region)\n",
    "sm_client = boto3.client(\"sagemaker\", region_name=region)\n",
    "\n",
    "sm_role = get_execution_role()"
   ]
  },
  {
   "cell_type": "code",
   "execution_count": 6,
   "metadata": {},
   "outputs": [],
   "source": [
    "# S3 prefix\n",
    "bucket = \"artwork-content-trial-bucket\"\n",
    "prefix=\"mch-artwork-content\"\n",
    "train_data_dir_prefix=\"data\"\n",
    "pipeline_dir_prefix=\"pipeline-data\"\n",
    "training_input_prefix = \"content_ovr_anonymised.csv\"\n",
    "model_approval_status = ParameterString(\n",
    "    name=\"ModelApprovalStatus\", default_value=\"Approved\"\n",
    ")\n"
   ]
  },
  {
   "cell_type": "code",
   "execution_count": 99,
   "metadata": {},
   "outputs": [],
   "source": [
    "training_input = f\"s3://{bucket}/{train_data_dir_prefix}/{training_input_prefix}\""
   ]
  },
  {
   "cell_type": "code",
   "execution_count": 100,
   "metadata": {},
   "outputs": [],
   "source": [
    "train_image_uri = '791574662255.dkr.ecr.us-east-1.amazonaws.com/artwork-content-repo:latest'\n",
    "estimator_output_path = f\"s3://{bucket}/{pipeline_dir_prefix}/\""
   ]
  },
  {
   "cell_type": "code",
   "execution_count": 101,
   "metadata": {},
   "outputs": [],
   "source": [
    "\n",
    "content_estimator = Estimator(\n",
    "    image_uri=train_image_uri,\n",
    "    instance_type=\"ml.m5.xlarge\",\n",
    "    instance_count=1,\n",
    "#     entry_point='inference.py',\n",
    "    output_path=estimator_output_path,\n",
    "    role=sm_role,\n",
    ")"
   ]
  },
  {
   "cell_type": "code",
   "execution_count": 102,
   "metadata": {},
   "outputs": [],
   "source": [
    "step_train = TrainingStep(\n",
    "    name=\"training\",\n",
    "    estimator=content_estimator,\n",
    "    inputs=training_input,\n",
    ")"
   ]
  },
  {
   "cell_type": "code",
   "execution_count": 103,
   "metadata": {},
   "outputs": [],
   "source": [
    "mdl_name=\"artwork_content_model\"\n",
    "# code_location = 's3://{0}/{1}/code'.format(bucket, prefix)\n",
    "\n",
    "model = Model(\n",
    "    image_uri=content_estimator.training_image_uri(),\n",
    "    name=mdl_name,\n",
    "    model_data=step_train.properties.ModelArtifacts.S3ModelArtifacts,\n",
    "    sagemaker_session=sagemaker_session,\n",
    "    role=sm_role\n",
    ")"
   ]
  },
  {
   "cell_type": "code",
   "execution_count": 104,
   "metadata": {},
   "outputs": [
    {
     "name": "stdout",
     "output_type": "stream",
     "text": [
      "<sagemaker.model.Model object at 0x7f561162cf10>\n"
     ]
    }
   ],
   "source": [
    "print(model)"
   ]
  },
  {
   "cell_type": "code",
   "execution_count": 105,
   "metadata": {},
   "outputs": [],
   "source": [
    "pipeline_session = PipelineSession()\n",
    "\n",
    "pipeline_model = PipelineModel(\n",
    "        models=[model],\n",
    "        role=sm_role,\n",
    "        sagemaker_session=pipeline_session,\n",
    ")"
   ]
  },
  {
   "cell_type": "code",
   "execution_count": 106,
   "metadata": {},
   "outputs": [],
   "source": [
    "# timestamp = datetime.datetime.now().strftime(\"%Y-%m-%d-%H-%M\")\n",
    "# mpg_name = f\"artwork-content-{timestamp}\"\n",
    "mpg_name = \"MCH-Content-Models\"\n",
    "\n",
    "register_model_step_args = pipeline_model.register(\n",
    "    content_types=[\"application/json\"],\n",
    "    response_types=[\"application/json\"],\n",
    "    inference_instances=[\"ml.t2.medium\", \"ml.m5.xlarge\"],\n",
    "    model_package_group_name=mpg_name,\n",
    "    approval_status=model_approval_status\n",
    ")"
   ]
  },
  {
   "cell_type": "code",
   "execution_count": 107,
   "metadata": {},
   "outputs": [],
   "source": [
    "model_name = \"artwork-content-model\" \n",
    "step_model_registration = ModelStep(\n",
    "   name=model_name,\n",
    "   step_args=register_model_step_args,\n",
    ")"
   ]
  },
  {
   "cell_type": "code",
   "execution_count": 108,
   "metadata": {},
   "outputs": [],
   "source": [
    "# step_model_create = ModelStep(\n",
    "#    name=f\"{model_name}-creation\",\n",
    "#    step_args=model.create(instance_type=\"ml.m5.xlarge\"),\n",
    "# )"
   ]
  },
  {
   "cell_type": "code",
   "execution_count": 109,
   "metadata": {},
   "outputs": [],
   "source": [
    "# s3_client.upload_file(Filename=\"deploy.py\", Bucket=bucket, Key=\"code/deploy.py\")\n",
    "# deploy_script_uri = f\"s3://{bucket}/code/deploy.py\"\n",
    "\n",
    "# deployment_processor = SKLearnProcessor(\n",
    "#     framework_version=\"1.0-1\",\n",
    "#     role=role,\n",
    "#     instance_type=\"ml.t3.medium\",\n",
    "#     instance_count=1,\n",
    "#     base_job_name=f\"{prefix}-deploy\",\n",
    "#     sagemaker_session=sagemaker_session,\n",
    "# )\n",
    "\n",
    "# step_deploy_model = ProcessingStep(\n",
    "#     name=\"DeployContentModel\",\n",
    "#     processor=deployment_processor,\n",
    "#     job_arguments=[\n",
    "#         \"--model-name\",\n",
    "#         step_model_create.properties.ModelName,\n",
    "#         \"--region\",\n",
    "#         region,\n",
    "#         \"--endpoint-instance-type\",\n",
    "#         \"ml.m5.xlarge\",\n",
    "#         \"--endpoint-name\",\n",
    "#         \"mch-artwork-content-endpoint-1\",\n",
    "#     ],\n",
    "#     code=deploy_script_uri,\n",
    "# )"
   ]
  },
  {
   "cell_type": "code",
   "execution_count": 110,
   "metadata": {},
   "outputs": [],
   "source": [
    "# deployment_processor = SKLearnProcessor(\n",
    "#     framework_version=\"1.0-1\",\n",
    "#     role=role,\n",
    "#     instance_type=\"ml.t3.medium\",\n",
    "#     instance_count=1,\n",
    "#     base_job_name=f\"{prefix}-deploy\",\n",
    "#     sagemaker_session=sagemaker_session,\n",
    "# )\n",
    "    \n",
    "# step_deploy_model = ProcessingStep(\n",
    "#     name=\"DeployContentModel\",\n",
    "#     processor=deployment_processor,\n",
    "#     job_arguments=[\n",
    "#         \"--arn-path\",\n",
    "#         step_model_create.properties.ModelArn,\n",
    "#         \"--region\",\n",
    "#         region\n",
    "#     ],\n",
    "#     code='deploy_2.py',\n",
    "#     outputs=[\n",
    "#         ProcessingOutput(output_name=\"endpoint_arn\", source=\"/opt/ml/processing/endpoint_arn\")\n",
    "#     ],\n",
    "# )"
   ]
  },
  {
   "cell_type": "code",
   "execution_count": 111,
   "metadata": {},
   "outputs": [],
   "source": [
    "# endpoint_name = \"mch-content-ep\"\n",
    "# initial_instance_count=1\n",
    "# instance_type='ml.t2.medium'\n",
    "\n",
    "# step_deploy = pipeline_model.deploy(initial_instance_count=1,instance_type='ml.t2.medium', endpoint_name=endpoint_name)\n",
    "# step_deploy = model.deploy(initial_instance_count=initial_instance_count, instance_type=instance_type, endpoint_name=endpoint_name)"
   ]
  },
  {
   "cell_type": "code",
   "execution_count": 112,
   "metadata": {},
   "outputs": [],
   "source": [
    "pipeline_name = f\"artwork-content-pipeline-demo\"\n",
    "\n",
    "pipeline_steps = [step_train, step_model_registration]\n",
    "\n",
    "pipeline = Pipeline(\n",
    "    name=pipeline_name,\n",
    "    parameters=[model_approval_status],\n",
    "    steps=pipeline_steps,\n",
    ")"
   ]
  },
  {
   "cell_type": "code",
   "execution_count": 113,
   "metadata": {},
   "outputs": [],
   "source": [
    "# json.loads(pipeline.definition())"
   ]
  },
  {
   "cell_type": "code",
   "execution_count": 114,
   "metadata": {},
   "outputs": [
    {
     "data": {
      "text/plain": [
       "{'PipelineArn': 'arn:aws:sagemaker:us-east-1:791574662255:pipeline/artwork-content-pipeline-demo',\n",
       " 'ResponseMetadata': {'RequestId': 'd9641067-e42b-4b9c-b32a-c023e38d15c6',\n",
       "  'HTTPStatusCode': 200,\n",
       "  'HTTPHeaders': {'x-amzn-requestid': 'd9641067-e42b-4b9c-b32a-c023e38d15c6',\n",
       "   'content-type': 'application/x-amz-json-1.1',\n",
       "   'content-length': '97',\n",
       "   'date': 'Tue, 10 Jan 2023 09:05:45 GMT'},\n",
       "  'RetryAttempts': 0}}"
      ]
     },
     "execution_count": 114,
     "metadata": {},
     "output_type": "execute_result"
    }
   ],
   "source": [
    "pipeline.upsert(role_arn=sm_role)"
   ]
  },
  {
   "cell_type": "code",
   "execution_count": 115,
   "metadata": {},
   "outputs": [
    {
     "data": {
      "text/plain": [
       "{'PipelineArn': 'arn:aws:sagemaker:us-east-1:791574662255:pipeline/artwork-content-pipeline-demo',\n",
       " 'PipelineExecutionArn': 'arn:aws:sagemaker:us-east-1:791574662255:pipeline/artwork-content-pipeline-demo/execution/vn6z7ecsnduw',\n",
       " 'PipelineExecutionDisplayName': 'execution-1673341545392',\n",
       " 'PipelineExecutionStatus': 'Succeeded',\n",
       " 'PipelineExperimentConfig': {'ExperimentName': 'artwork-content-pipeline-demo',\n",
       "  'TrialName': 'vn6z7ecsnduw'},\n",
       " 'CreationTime': datetime.datetime(2023, 1, 10, 9, 5, 45, 300000, tzinfo=tzlocal()),\n",
       " 'LastModifiedTime': datetime.datetime(2023, 1, 10, 9, 9, 35, 671000, tzinfo=tzlocal()),\n",
       " 'CreatedBy': {'UserProfileArn': 'arn:aws:sagemaker:us-east-1:791574662255:user-profile/d-u9ximrvnxnyj/vchitrakathi-dminc-com-f51',\n",
       "  'UserProfileName': 'vchitrakathi-dminc-com-f51',\n",
       "  'DomainId': 'd-u9ximrvnxnyj'},\n",
       " 'LastModifiedBy': {'UserProfileArn': 'arn:aws:sagemaker:us-east-1:791574662255:user-profile/d-u9ximrvnxnyj/vchitrakathi-dminc-com-f51',\n",
       "  'UserProfileName': 'vchitrakathi-dminc-com-f51',\n",
       "  'DomainId': 'd-u9ximrvnxnyj'},\n",
       " 'ResponseMetadata': {'RequestId': '1a9b640a-e752-4cdb-9ba5-806d4d954568',\n",
       "  'HTTPStatusCode': 200,\n",
       "  'HTTPHeaders': {'x-amzn-requestid': '1a9b640a-e752-4cdb-9ba5-806d4d954568',\n",
       "   'content-type': 'application/x-amz-json-1.1',\n",
       "   'content-length': '904',\n",
       "   'date': 'Tue, 10 Jan 2023 09:09:46 GMT'},\n",
       "  'RetryAttempts': 0}}"
      ]
     },
     "execution_count": 115,
     "metadata": {},
     "output_type": "execute_result"
    }
   ],
   "source": [
    "execution = pipeline.start()\n",
    "execution.wait()\n",
    "execution.describe()"
   ]
  },
  {
   "cell_type": "code",
   "execution_count": null,
   "metadata": {},
   "outputs": [],
   "source": [
    "import time\n",
    "from sagemaker.lineage.visualizer import LineageTableVisualizer\n",
    "\n",
    "\n",
    "viz = LineageTableVisualizer(sagemaker.session.Session())\n",
    "for execution_step in reversed(execution.list_steps()):\n",
    "    print(execution_step)\n",
    "    display(viz.show(pipeline_execution_step=execution_step))\n",
    "    time.sleep(5)"
   ]
  },
  {
   "cell_type": "code",
   "execution_count": null,
   "metadata": {},
   "outputs": [],
   "source": []
  },
  {
   "cell_type": "code",
   "execution_count": null,
   "metadata": {},
   "outputs": [],
   "source": []
  },
  {
   "cell_type": "code",
   "execution_count": 134,
   "metadata": {},
   "outputs": [],
   "source": [
    "# import os\n",
    "\n",
    "# os.path.realpath('scoring/')"
   ]
  },
  {
   "cell_type": "code",
   "execution_count": 167,
   "metadata": {},
   "outputs": [],
   "source": [
    "# ModelName='artwork_content_model'\n",
    "# ModelName[:20]"
   ]
  },
  {
   "cell_type": "code",
   "execution_count": 34,
   "metadata": {},
   "outputs": [
    {
     "data": {
      "text/plain": [
       "'/root'"
      ]
     },
     "execution_count": 34,
     "metadata": {},
     "output_type": "execute_result"
    }
   ],
   "source": [
    "BASE_DIR = os.path.realpath('.'))\n",
    "BASE_DIR"
   ]
  },
  {
   "cell_type": "code",
   "execution_count": 29,
   "metadata": {},
   "outputs": [
    {
     "data": {
      "text/plain": [
       "'arn:aws:sagemaker:us-east-1:791574662255:model-package/mch-content-models/85'"
      ]
     },
     "execution_count": 29,
     "metadata": {},
     "output_type": "execute_result"
    }
   ],
   "source": [
    "# model_name = 'pipelines-j84lf8hkcds5-CreateModelStep-WpoTpbCPDJ'\n",
    "# model_name = 'pipelines-uhxcwx86vgv4-CreateModelStep-RQ6PyNYjFk'\n",
    "# models = sm_client.list_models()\n",
    "# models\n",
    "# model_name = models['Models'][0]['ModelName']\n",
    "# model_name\n",
    "\n",
    "# response = sm_client.describe_model(ModelName=model_name)\n",
    "# response\n",
    "\n",
    "# model_data_url = response['PrimaryContainer']['ModelDataUrl']\n",
    "# model_data_url\n",
    "\n",
    "mpg_name='MCH-Content-Models'\n",
    "model_package_arn = sm_client.list_model_packages(ModelPackageGroupName=mpg_name)['ModelPackageSummaryList'][0]['ModelPackageArn']\n",
    "model_package_arn"
   ]
  },
  {
   "cell_type": "code",
   "execution_count": 15,
   "metadata": {},
   "outputs": [],
   "source": [
    "# sagemaker_session.list_s3_files(bucket=bucket, key_prefix='code/')"
   ]
  },
  {
   "cell_type": "code",
   "execution_count": 81,
   "metadata": {},
   "outputs": [],
   "source": [
    "# role = boto3.client(\"iam\")\n",
    "# role.get_role(RoleName=\"AmazonSageMakerServiceCatalogProductsExecutionRole\")\n",
    "\n",
    "# access_key = boto3.Session().get_credentials().access_key\n",
    "# secret_key = boto3.Session().get_credentials().secret_key\n",
    "# token = boto3.Session().get_credentials().token\n",
    "\n",
    "# print(access_key, \"\\n\\t\", secret_key, \"\\n\\t\\t\", token)"
   ]
  },
  {
   "cell_type": "code",
   "execution_count": 109,
   "metadata": {},
   "outputs": [],
   "source": [
    "# from sagemaker.sklearn.processing import SKLearnProcessor\n",
    "# SKLearnProcessor.run()\n",
    "\n",
    "\n",
    "# from sagemaker.workflow.steps import ProcessingStep\n",
    "# ProcessingStep()"
   ]
  },
  {
   "cell_type": "code",
   "execution_count": 3,
   "metadata": {},
   "outputs": [],
   "source": [
    "# import pandas as pd\n",
    "\n",
    "# model_df = pd.read_excel('aws-models.xlsx')\n",
    "\n",
    "# model_df.head()\n",
    "\n",
    "# model_names_lst = model_df['Name'].to_list()\n",
    "\n",
    "\n",
    "# for name in model_names_lst:\n",
    "#     # Delete model\n",
    "#     sm_client.delete_model(ModelName=name)"
   ]
  },
  {
   "cell_type": "code",
   "execution_count": null,
   "metadata": {},
   "outputs": [],
   "source": [
    "# response = sm.list_pipeline_executions(PipelineName=pipeline_name)\n",
    "\n",
    "# # Get the ARN of the latest pipeline execution\n",
    "# latest_pipeline_execution_arn = response['PipelineExecutionSummaries'][0]['PipelineExecutionArn']\n",
    "\n",
    "# # Get the response of latest execution of the pipeline\n",
    "# pipeline_arn_response = sm.describe_pipeline_execution(\n",
    "#     PipelineExecutionArn=latest_pipeline_execution_arn\n",
    "# )\n"
   ]
  }
 ],
 "metadata": {
  "instance_type": "ml.t3.medium",
  "kernelspec": {
   "display_name": "Python 3 (Data Science)",
   "language": "python",
   "name": "python3__SAGEMAKER_INTERNAL__arn:aws:sagemaker:us-east-1:081325390199:image/datascience-1.0"
  },
  "language_info": {
   "codemirror_mode": {
    "name": "ipython",
    "version": 3
   },
   "file_extension": ".py",
   "mimetype": "text/x-python",
   "name": "python",
   "nbconvert_exporter": "python",
   "pygments_lexer": "ipython3",
   "version": "3.7.10"
  }
 },
 "nbformat": 4,
 "nbformat_minor": 4
}
